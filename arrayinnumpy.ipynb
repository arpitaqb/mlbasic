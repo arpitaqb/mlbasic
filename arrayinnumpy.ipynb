{
 "cells": [
  {
   "cell_type": "code",
   "execution_count": 2,
   "id": "8eba641b",
   "metadata": {},
   "outputs": [],
   "source": [
    "import numpy as np"
   ]
  },
  {
   "cell_type": "code",
   "execution_count": 3,
   "id": "4af133a1",
   "metadata": {},
   "outputs": [],
   "source": [
    "a = [3,4,6,2,9]"
   ]
  },
  {
   "cell_type": "code",
   "execution_count": 4,
   "id": "446323de",
   "metadata": {},
   "outputs": [
    {
     "data": {
      "text/plain": [
       "array([3, 4, 6, 2, 9])"
      ]
     },
     "execution_count": 4,
     "metadata": {},
     "output_type": "execute_result"
    }
   ],
   "source": [
    "arr = np.array(a)\n",
    "(arr)"
   ]
  },
  {
   "cell_type": "code",
   "execution_count": 54,
   "id": "8b30e656",
   "metadata": {},
   "outputs": [
    {
     "name": "stdout",
     "output_type": "stream",
     "text": [
      "[2 3 4 5]\n",
      "3\n"
     ]
    }
   ],
   "source": [
    "arr1= np.array([2,3,4,5], np.int8) #1d array \n",
    "print(arr1) #.int_ method will allocate memory based on byte if you write int8, int16 or int32 or int64 it will aloocate based on that \n",
    "ar1 = np.array([1,2,3], ndmin=3) #set the dimention of the given array\n",
    "print(ar1.ndim)"
   ]
  },
  {
   "cell_type": "code",
   "execution_count": 6,
   "id": "71756da9",
   "metadata": {},
   "outputs": [
    {
     "data": {
      "text/plain": [
       "np.int64(3)"
      ]
     },
     "execution_count": 6,
     "metadata": {},
     "output_type": "execute_result"
    }
   ],
   "source": [
    "arr2 = np.array([[1,3,6],[8,1,3]])  #2d array\n",
    "arr2\n",
    "arr2[1,2]"
   ]
  },
  {
   "cell_type": "code",
   "execution_count": 7,
   "id": "af13439f",
   "metadata": {},
   "outputs": [
    {
     "data": {
      "text/plain": [
       "dtype('int64')"
      ]
     },
     "execution_count": 7,
     "metadata": {},
     "output_type": "execute_result"
    }
   ],
   "source": [
    "arr.shape#it will define shape of the array based on elements and it's type\n",
    "arr1.shape\n",
    "arr2.shape\n",
    "arr.dtype  #it will define memory allocation of that variable\n",
    "arr1.dtype\n",
    "arr2.dtype"
   ]
  },
  {
   "cell_type": "code",
   "execution_count": 8,
   "id": "09f569e3",
   "metadata": {},
   "outputs": [
    {
     "name": "stdout",
     "output_type": "stream",
     "text": [
      "[3 5 7]\n",
      "[[0. 0. 0. 0. 0.]\n",
      " [0. 0. 0. 0. 0.]\n",
      " [0. 0. 0. 0. 0.]]\n",
      "[0 1 2 3 4 5 6 7 8 9]\n",
      "[1.         1.66666667 2.33333333 3.        ]\n",
      "[[0. 0. 0.]]\n",
      "[         4294967296                   0          4294967298\n",
      " 4851316189630038017                 924 7308602722113028507\n",
      "                1056 2893965658582679963                 748\n",
      " 8386098755551625627]\n",
      "[[1. 0. 0. 0. 0.]\n",
      " [0. 1. 0. 0. 0.]\n",
      " [0. 0. 1. 0. 0.]\n",
      " [0. 0. 0. 1. 0.]\n",
      " [0. 0. 0. 0. 1.]]\n",
      "[ 0  1  2  3  4  5  6  7  8  9 10 11 12 13 14 15 16 17 18 19 20 21 22 23\n",
      " 24 25 26 27 28 29 30 31 32 33 34 35 36 37 38 39 40 41 42 43 44 45 46 47\n",
      " 48 49 50 51 52 53 54 55 56 57 58 59 60 61 62 63 64 65 66 67 68 69 70 71\n",
      " 72 73 74 75 76 77 78 79 80 81 82 83 84 85 86 87 88 89 90 91 92 93 94 95\n",
      " 96 97 98]\n",
      "[[ 0  1  2  3  4  5  6  7  8  9 10 11 12 13 14 15 16 17 18 19 20 21 22 23\n",
      "  24 25 26 27 28 29 30 31 32]\n",
      " [33 34 35 36 37 38 39 40 41 42 43 44 45 46 47 48 49 50 51 52 53 54 55 56\n",
      "  57 58 59 60 61 62 63 64 65]\n",
      " [66 67 68 69 70 71 72 73 74 75 76 77 78 79 80 81 82 83 84 85 86 87 88 89\n",
      "  90 91 92 93 94 95 96 97 98]]\n",
      "[ 0  1  2  3  4  5  6  7  8  9 10 11 12 13 14 15 16 17 18 19 20 21 22 23\n",
      " 24 25 26 27 28 29 30 31 32 33 34 35 36 37 38 39 40 41 42 43 44 45 46 47\n",
      " 48 49 50 51 52 53 54 55 56 57 58 59 60 61 62 63 64 65 66 67 68 69 70 71\n",
      " 72 73 74 75 76 77 78 79 80 81 82 83 84 85 86 87 88 89 90 91 92 93 94 95\n",
      " 96 97 98]\n"
     ]
    }
   ],
   "source": [
    "#types to define numpy array \n",
    "#1. python datatypes\n",
    "list  = [3,5,7]\n",
    "l = np.array(list)\n",
    "l #when in last line then only work\n",
    "print(l)\n",
    "#2. built-in methods \n",
    "z = np.zeros((3,5)) #zeros will return float values of 0 and dimention as mention \n",
    "print(z)\n",
    "a = np.arange(10) # it will give one dimention array upto the range, last element is not considered\n",
    "print(a)\n",
    "#linespace\n",
    "lspace = np.linspace(1,3,4) #from 1 to 3 divide elemets into 4 equal parts \n",
    "print(lspace)\n",
    "#empty \n",
    "e = np.empty((1,3)) #it will take random number and print array\n",
    "print(e)\n",
    "e2 = np.empty_like(a) \n",
    "print(e2)\n",
    "#identity\n",
    "i = np.identity(5) # it will give identity array of parameter given \n",
    "print(i)\n",
    "#RESHAPE\n",
    "s = np.arange(99)\n",
    "r = s.reshape(3,33)\n",
    "print(s)\n",
    "print(r)\n",
    "print(r.ravel())"
   ]
  },
  {
   "cell_type": "code",
   "execution_count": 9,
   "id": "e48cf94c",
   "metadata": {},
   "outputs": [
    {
     "name": "stdout",
     "output_type": "stream",
     "text": [
      "[3 9 5 9]\n",
      "[16 10]\n"
     ]
    }
   ],
   "source": [
    "a = [[2,5,3,6],[1,4,2,3]]\n",
    "b = np.array(a)\n",
    "print(b.sum(axis=0))\n",
    "print(b.sum(axis=1))"
   ]
  },
  {
   "cell_type": "code",
   "execution_count": 10,
   "id": "edcbacf0",
   "metadata": {},
   "outputs": [
    {
     "data": {
      "text/plain": [
       "array([[2, 1],\n",
       "       [5, 4],\n",
       "       [3, 2],\n",
       "       [6, 3]])"
      ]
     },
     "execution_count": 10,
     "metadata": {},
     "output_type": "execute_result"
    }
   ],
   "source": [
    "b.T"
   ]
  },
  {
   "cell_type": "code",
   "execution_count": 11,
   "id": "2c7a5c67",
   "metadata": {},
   "outputs": [
    {
     "data": {
      "text/plain": [
       "<numpy.flatiter at 0x210f4268fc0>"
      ]
     },
     "execution_count": 11,
     "metadata": {},
     "output_type": "execute_result"
    }
   ],
   "source": [
    "b.flat"
   ]
  },
  {
   "cell_type": "code",
   "execution_count": 12,
   "id": "5eaff438",
   "metadata": {},
   "outputs": [
    {
     "name": "stdout",
     "output_type": "stream",
     "text": [
      "2\n",
      "5\n",
      "3\n",
      "6\n",
      "1\n",
      "4\n",
      "2\n",
      "3\n"
     ]
    }
   ],
   "source": [
    "for i in b.flat:\n",
    "    print(i)"
   ]
  },
  {
   "cell_type": "code",
   "execution_count": 53,
   "id": "3ae8a48d",
   "metadata": {},
   "outputs": [
    {
     "data": {
      "text/plain": [
       "2"
      ]
     },
     "execution_count": 53,
     "metadata": {},
     "output_type": "execute_result"
    }
   ],
   "source": [
    "b.ndim  #check number of dimention"
   ]
  },
  {
   "cell_type": "code",
   "execution_count": 14,
   "id": "dc9a2c01",
   "metadata": {},
   "outputs": [
    {
     "data": {
      "text/plain": [
       "8"
      ]
     },
     "execution_count": 14,
     "metadata": {},
     "output_type": "execute_result"
    }
   ],
   "source": [
    "b.size"
   ]
  },
  {
   "cell_type": "code",
   "execution_count": 15,
   "id": "3b1d97ae",
   "metadata": {},
   "outputs": [
    {
     "data": {
      "text/plain": [
       "64"
      ]
     },
     "execution_count": 15,
     "metadata": {},
     "output_type": "execute_result"
    }
   ],
   "source": [
    "b.nbytes"
   ]
  },
  {
   "cell_type": "code",
   "execution_count": 21,
   "id": "9b732d67",
   "metadata": {},
   "outputs": [
    {
     "name": "stdout",
     "output_type": "stream",
     "text": [
      "[0 2 1 3]\n"
     ]
    }
   ],
   "source": [
    "b = np.array([2,5,3,6])\n",
    "print(b.argsort())"
   ]
  },
  {
   "cell_type": "code",
   "execution_count": 17,
   "id": "1ea9b186",
   "metadata": {},
   "outputs": [
    {
     "data": {
      "text/plain": [
       "array([[0, 2, 1, 3],\n",
       "       [0, 2, 3, 1]])"
      ]
     },
     "execution_count": 17,
     "metadata": {},
     "output_type": "execute_result"
    }
   ],
   "source": [
    "b.argsort()"
   ]
  },
  {
   "cell_type": "code",
   "execution_count": 18,
   "id": "a38f4a18",
   "metadata": {},
   "outputs": [
    {
     "data": {
      "text/plain": [
       "array([[1, 1, 1, 1],\n",
       "       [0, 0, 0, 0]])"
      ]
     },
     "execution_count": 18,
     "metadata": {},
     "output_type": "execute_result"
    }
   ],
   "source": [
    "b.argsort(axis=0)"
   ]
  },
  {
   "cell_type": "code",
   "execution_count": 19,
   "id": "fa9774eb",
   "metadata": {},
   "outputs": [
    {
     "data": {
      "text/plain": [
       "array([[0, 2, 1, 3],\n",
       "       [0, 2, 3, 1]])"
      ]
     },
     "execution_count": 19,
     "metadata": {},
     "output_type": "execute_result"
    }
   ],
   "source": [
    "b.argsort(axis=1)"
   ]
  },
  {
   "cell_type": "code",
   "execution_count": 22,
   "id": "ef0a2388",
   "metadata": {},
   "outputs": [],
   "source": [
    "b = np.array([[50, 20, 30],\n",
    "              [40, 10, 20],\n",
    "              [60, 30, 10]])"
   ]
  },
  {
   "cell_type": "code",
   "execution_count": 24,
   "id": "4747c552",
   "metadata": {},
   "outputs": [
    {
     "data": {
      "text/plain": [
       "array([[1, 1, 2],\n",
       "       [0, 0, 1],\n",
       "       [2, 2, 0]])"
      ]
     },
     "execution_count": 24,
     "metadata": {},
     "output_type": "execute_result"
    }
   ],
   "source": [
    "b.argsort(axis=0)"
   ]
  },
  {
   "cell_type": "code",
   "execution_count": 25,
   "id": "81ade94e",
   "metadata": {},
   "outputs": [
    {
     "data": {
      "text/plain": [
       "array([[1, 2, 0],\n",
       "       [1, 2, 0],\n",
       "       [2, 1, 0]])"
      ]
     },
     "execution_count": 25,
     "metadata": {},
     "output_type": "execute_result"
    }
   ],
   "source": [
    "b.argsort(axis=1)"
   ]
  },
  {
   "cell_type": "code",
   "execution_count": 27,
   "id": "dd4786c5",
   "metadata": {},
   "outputs": [],
   "source": [
    "a = np.array([[1,3,2],[2,4,3]])\n",
    "b = np.array([[3,5,4],[5,2,1]])\n"
   ]
  },
  {
   "cell_type": "code",
   "execution_count": 30,
   "id": "dc867c1f",
   "metadata": {},
   "outputs": [
    {
     "name": "stdout",
     "output_type": "stream",
     "text": [
      "[[1 3 2]\n",
      " [2 4 3]]\n",
      "[[3 5 4]\n",
      " [5 2 1]]\n",
      "[[4 8 6]\n",
      " [7 6 4]]\n",
      "[[ 3 15  8]\n",
      " [10  8  3]]\n"
     ]
    }
   ],
   "source": [
    "print(a)\n",
    "print(b)\n",
    "print(a+b)\n",
    "print(a*b)"
   ]
  },
  {
   "cell_type": "code",
   "execution_count": 33,
   "id": "628aca21",
   "metadata": {},
   "outputs": [
    {
     "data": {
      "text/plain": [
       "array([[4., 9.],\n",
       "       [3., 2.]])"
      ]
     },
     "execution_count": 33,
     "metadata": {},
     "output_type": "execute_result"
    }
   ],
   "source": [
    "np.sqrt([[16, 81],[9, 4]])"
   ]
  },
  {
   "cell_type": "code",
   "execution_count": 44,
   "id": "d9d17fbf",
   "metadata": {},
   "outputs": [
    {
     "name": "stdout",
     "output_type": "stream",
     "text": [
      "(array([1]), array([2]))\n"
     ]
    },
    {
     "data": {
      "text/plain": [
       "array([['false', 'false', 'false'],\n",
       "       ['false', 'false', 'true']], dtype='<U5')"
      ]
     },
     "execution_count": 44,
     "metadata": {},
     "output_type": "execute_result"
    }
   ],
   "source": [
    "arr = np.array([[1,4,2],[5,3,7]])\n",
    "print(np.where(arr>5)) # return the postion of the value if condition is true #return as tuple\n",
    "np.where(arr>5,\"true\",\"false\") # (condition, x,y) if condition is true then return x else y #return array "
   ]
  },
  {
   "cell_type": "code",
   "execution_count": null,
   "id": "3c363a26",
   "metadata": {},
   "outputs": [
    {
     "data": {
      "text/plain": [
       "np.int64(4)"
      ]
     },
     "execution_count": 48,
     "metadata": {},
     "output_type": "execute_result"
    }
   ],
   "source": [
    "ar = np.array([[1,2,0],[2,0,1]])\n",
    "np.count_nonzero(ar) #return total non zero values into array "
   ]
  },
  {
   "cell_type": "code",
   "execution_count": null,
   "id": "c3bfffdd",
   "metadata": {},
   "outputs": [
    {
     "data": {
      "text/plain": [
       "(array([0, 0, 1, 1]), array([0, 1, 0, 2]))"
      ]
     },
     "execution_count": 49,
     "metadata": {},
     "output_type": "execute_result"
    }
   ],
   "source": [
    "np.nonzero(ar) #return postion of non zero values"
   ]
  },
  {
   "cell_type": "code",
   "execution_count": 50,
   "id": "21dd3f28",
   "metadata": {},
   "outputs": [
    {
     "data": {
      "text/plain": [
       "(array([0, 0, 1]), array([0, 1, 0]))"
      ]
     },
     "execution_count": 50,
     "metadata": {},
     "output_type": "execute_result"
    }
   ],
   "source": [
    "ar[1,2] = 0\n",
    "np.nonzero(ar)"
   ]
  },
  {
   "cell_type": "code",
   "execution_count": 52,
   "id": "7e75bba5",
   "metadata": {},
   "outputs": [
    {
     "name": "stdout",
     "output_type": "stream",
     "text": [
      "32\n"
     ]
    }
   ],
   "source": [
    "a = np.array(32)\n",
    "print(a)"
   ]
  },
  {
   "cell_type": "code",
   "execution_count": null,
   "id": "89967b99",
   "metadata": {},
   "outputs": [],
   "source": []
  }
 ],
 "metadata": {
  "kernelspec": {
   "display_name": "Python 3",
   "language": "python",
   "name": "python3"
  },
  "language_info": {
   "codemirror_mode": {
    "name": "ipython",
    "version": 3
   },
   "file_extension": ".py",
   "mimetype": "text/x-python",
   "name": "python",
   "nbconvert_exporter": "python",
   "pygments_lexer": "ipython3",
   "version": "3.13.3"
  }
 },
 "nbformat": 4,
 "nbformat_minor": 5
}
