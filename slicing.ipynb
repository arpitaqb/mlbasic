{
 "cells": [
  {
   "cell_type": "code",
   "execution_count": 1,
   "id": "250c2995",
   "metadata": {},
   "outputs": [],
   "source": [
    "import numpy as np"
   ]
  },
  {
   "cell_type": "code",
   "execution_count": 32,
   "id": "6e5d99b1",
   "metadata": {},
   "outputs": [],
   "source": [
    "a = np.array([1,2,3])\n",
    "b = np.array([[1,2,3],[4,5,6]])"
   ]
  },
  {
   "cell_type": "code",
   "execution_count": null,
   "id": "a1098dd9",
   "metadata": {},
   "outputs": [
    {
     "name": "stdout",
     "output_type": "stream",
     "text": [
      "[2]\n",
      "[1 2]\n",
      "[2 3]\n"
     ]
    }
   ],
   "source": [
    "#slicing methods for 1D array\n",
    "print(a[1:2])\n",
    "print(a[:2])\n",
    "print(a[1:])"
   ]
  },
  {
   "cell_type": "code",
   "execution_count": 17,
   "id": "26420a4b",
   "metadata": {},
   "outputs": [
    {
     "name": "stdout",
     "output_type": "stream",
     "text": [
      "[5]\n",
      "[3 6]\n",
      "[3 6]\n",
      "[4 5 6]\n",
      "6\n",
      "[[1 2]\n",
      " [4 5]]\n",
      "[[1 2 3]\n",
      " [4 5 6]]\n"
     ]
    }
   ],
   "source": [
    "#slicing method for 2D array\n",
    "print(b[1, 1:2])\n",
    "print(b[0:2,2])\n",
    "print(b[:,2])\n",
    "print(b[1,:])\n",
    "print(b[1,2])\n",
    "print(b[0:2,0:2])\n",
    "print(b[:,:])"
   ]
  },
  {
   "cell_type": "code",
   "execution_count": null,
   "id": "e5672eb4",
   "metadata": {},
   "outputs": [
    {
     "data": {
      "text/plain": [
       "array([2, 3])"
      ]
     },
     "execution_count": 34,
     "metadata": {},
     "output_type": "execute_result"
    }
   ],
   "source": [
    "#boolean indexing : if condition is true then print element \n",
    "a[a>1]"
   ]
  },
  {
   "cell_type": "code",
   "execution_count": null,
   "id": "32997730",
   "metadata": {},
   "outputs": [
    {
     "data": {
      "text/plain": [
       "array([1, 3])"
      ]
     },
     "execution_count": 35,
     "metadata": {},
     "output_type": "execute_result"
    }
   ],
   "source": [
    "#slicing by elements it will gicve elements of exact index\n",
    "a[[0,2]]"
   ]
  },
  {
   "cell_type": "code",
   "execution_count": 20,
   "id": "c0316b1e",
   "metadata": {},
   "outputs": [],
   "source": [
    "#in array you cannot store multiple datatype in one array if you want to do that you need to define it as a object or else it will automatically consider all as a string \n",
    "arr = np.array( ['arpita',2 ,4, 6.7, 10])"
   ]
  },
  {
   "cell_type": "code",
   "execution_count": null,
   "id": "71775d0e",
   "metadata": {},
   "outputs": [
    {
     "data": {
      "text/plain": [
       "array(['arpita', '2', '4', '6.7', '10'], dtype='<U32')"
      ]
     },
     "execution_count": 27,
     "metadata": {},
     "output_type": "execute_result"
    }
   ],
   "source": [
    "arr  # all considered as string because int can be written into string "
   ]
  },
  {
   "cell_type": "code",
   "execution_count": 25,
   "id": "6dab839f",
   "metadata": {},
   "outputs": [],
   "source": [
    "arr1 = np.array(['arpita',2 ,4, 6.7, 10], dtype=object)"
   ]
  },
  {
   "cell_type": "code",
   "execution_count": null,
   "id": "effe0ab7",
   "metadata": {},
   "outputs": [
    {
     "data": {
      "text/plain": [
       "array(['arpita', 2, 4, 6.7, 10], dtype=object)"
      ]
     },
     "execution_count": 29,
     "metadata": {},
     "output_type": "execute_result"
    }
   ],
   "source": [
    "arr1 # all remain as it is becuse of object typr "
   ]
  },
  {
   "cell_type": "code",
   "execution_count": 37,
   "id": "fa5c0985",
   "metadata": {},
   "outputs": [],
   "source": [
    "ar1 = np.array([1,2,3])\n",
    "ar2 = np.array([4,5,6])"
   ]
  },
  {
   "cell_type": "code",
   "execution_count": null,
   "id": "c4fdc4fd",
   "metadata": {},
   "outputs": [
    {
     "name": "stdout",
     "output_type": "stream",
     "text": [
      "addition: [5 7 9]\n",
      "substraction: [-3 -3 -3]\n",
      "multiplication: [ 4 10 18]\n",
      "division: [4.  2.5 2. ]\n",
      "power: [1 4 9]\n"
     ]
    }
   ],
   "source": [
    "#basic arithmatic operation\n",
    "print(\"addition:\",ar1+ar2)\n",
    "print(\"substraction:\",  ar1-ar2)\n",
    "print(\"multiplication:\", ar1*ar2)\n",
    "print(\"division:\", ar2/ar1)\n",
    "print(\"power:\",ar1**2)\n"
   ]
  },
  {
   "cell_type": "code",
   "execution_count": 42,
   "id": "57a15255",
   "metadata": {},
   "outputs": [
    {
     "name": "stdout",
     "output_type": "stream",
     "text": [
      "[1.         1.41421356 1.73205081]\n",
      "[ 2.71828183  7.3890561  20.08553692]\n",
      "[0.         0.69314718 1.09861229]\n"
     ]
    }
   ],
   "source": [
    "# functions \n",
    "print(np.sqrt(ar1))\n",
    "print(np.exp(ar1))\n",
    "print(np.log(ar1))\n"
   ]
  },
  {
   "cell_type": "code",
   "execution_count": 43,
   "id": "dbfe53bd",
   "metadata": {},
   "outputs": [
    {
     "name": "stdout",
     "output_type": "stream",
     "text": [
      "6\n",
      "1\n",
      "3\n",
      "2.0\n",
      "0.816496580927726\n"
     ]
    }
   ],
   "source": [
    "print(np.sum(ar1))\n",
    "print(np.min(ar1))\n",
    "print(np.max(ar1))\n",
    "print(np.mean(ar1))\n",
    "print(np.std(ar1))"
   ]
  },
  {
   "cell_type": "code",
   "execution_count": null,
   "id": "3539f592",
   "metadata": {},
   "outputs": [
    {
     "data": {
      "text/plain": [
       "array([4, 5, 6])"
      ]
     },
     "execution_count": 44,
     "metadata": {},
     "output_type": "execute_result"
    }
   ],
   "source": [
    "#broadcasting\n",
    "a = np.array([1,2,3])\n",
    "b = 3\n",
    "a+b # b will be added to each element of a "
   ]
  },
  {
   "cell_type": "code",
   "execution_count": 45,
   "id": "ebd77842",
   "metadata": {},
   "outputs": [
    {
     "data": {
      "text/plain": [
       "array([[ 3,  6,  9],\n",
       "       [ 6,  9, 12]])"
      ]
     },
     "execution_count": 45,
     "metadata": {},
     "output_type": "execute_result"
    }
   ],
   "source": [
    "a = np.array([[1,2,3],[4,5,6]])\n",
    "b = np.array([2,4,6])\n",
    "a+b # b will be added to each row of a "
   ]
  },
  {
   "cell_type": "code",
   "execution_count": 46,
   "id": "21f250e9",
   "metadata": {},
   "outputs": [
    {
     "data": {
      "text/plain": [
       "array([[11, 21, 31],\n",
       "       [12, 22, 32],\n",
       "       [13, 23, 33]])"
      ]
     },
     "execution_count": 46,
     "metadata": {},
     "output_type": "execute_result"
    }
   ],
   "source": [
    "a = np.array([[1],[2],[3]])\n",
    "b = np.array([10,20,30])\n",
    "a+b"
   ]
  },
  {
   "cell_type": "code",
   "execution_count": null,
   "id": "1b6cda2b",
   "metadata": {},
   "outputs": [
    {
     "name": "stdout",
     "output_type": "stream",
     "text": [
      "[[1 2 3]\n",
      " [4 5 6]\n",
      " [7 8 9]]\n"
     ]
    },
    {
     "data": {
      "text/plain": [
       "array([4., 5., 6.])"
      ]
     },
     "execution_count": 89,
     "metadata": {},
     "output_type": "execute_result"
    }
   ],
   "source": [
    "#make 3x3 array from random 1to 10 and get mean from each coloum.\n",
    "a = np.arange(1,10).reshape(3,3)\n",
    "print(a)\n",
    "a.mean(axis=0)"
   ]
  },
  {
   "cell_type": "code",
   "execution_count": null,
   "id": "2408ef5c",
   "metadata": {},
   "outputs": [
    {
     "data": {
      "text/plain": [
       "array([[19, 22],\n",
       "       [43, 50]])"
      ]
     },
     "execution_count": 91,
     "metadata": {},
     "output_type": "execute_result"
    }
   ],
   "source": [
    "#matrix multiplication (dot product)\n",
    "a = np.array([[1, 2], [3, 4]])\n",
    "b = np.array([[5, 6], [7, 8]])\n",
    "np.dot(a,b)\n",
    "a@b"
   ]
  },
  {
   "cell_type": "code",
   "execution_count": 100,
   "id": "4ebfecac",
   "metadata": {},
   "outputs": [
    {
     "name": "stdout",
     "output_type": "stream",
     "text": [
      "1\n",
      "2\n",
      "3\n",
      "4\n",
      "5\n",
      "np.bytes_(b'1')\n",
      "np.bytes_(b'2')\n",
      "np.bytes_(b'3')\n",
      "np.bytes_(b'4')\n",
      "np.bytes_(b'5')\n",
      "1\n",
      "3\n",
      "5\n",
      "1\n",
      "3\n",
      "4\n",
      "6\n"
     ]
    }
   ],
   "source": [
    "#iterating array with different datatype\n",
    "\n",
    "arr = np.array([1,2,3,4,5])\n",
    "for i in np.nditer(arr):\n",
    "    print(i)\n",
    "\n",
    "for i in np.nditer(arr, flags=['buffered'], op_dtypes=['S']):\n",
    "    print(i)\n",
    "\n",
    "for i in np.nditer(arr[::2]):\n",
    "    print(i)\n",
    "\n",
    "arr1 = np.array([[1,2,3],[4,5,6]])\n",
    "\n",
    "for i in np.nditer(arr1[:,::2]):\n",
    "    print(i)"
   ]
  },
  {
   "cell_type": "code",
   "execution_count": 102,
   "id": "2e1a099c",
   "metadata": {},
   "outputs": [
    {
     "name": "stdout",
     "output_type": "stream",
     "text": [
      "(0,) 1\n",
      "(1,) 2\n",
      "(2,) 3\n",
      "(3,) 4\n",
      "(4,) 5\n",
      "(0, 0) 1\n",
      "(0, 1) 2\n",
      "(0, 2) 3\n",
      "(1, 0) 4\n",
      "(1, 1) 5\n",
      "(1, 2) 6\n"
     ]
    }
   ],
   "source": [
    "#ndenumerate function which give iterate with index\n",
    "for index,i in np.ndenumerate(arr):\n",
    "    print(index, i)\n",
    "\n",
    "for index, i in np.ndenumerate(arr1):\n",
    "    print(index, i)"
   ]
  },
  {
   "cell_type": "code",
   "execution_count": 120,
   "id": "ca4e2942",
   "metadata": {},
   "outputs": [
    {
     "name": "stdout",
     "output_type": "stream",
     "text": [
      "[[1 2]\n",
      " [3 4]\n",
      " [5 6]\n",
      " [7 8]]\n",
      "[[[1 2]\n",
      "  [5 6]]\n",
      "\n",
      " [[3 4]\n",
      "  [7 8]]]\n",
      "[[1 2 5 6]\n",
      " [3 4 7 8]]\n",
      "[[1 2]\n",
      " [3 4]\n",
      " [5 6]\n",
      " [7 8]]\n",
      "[[[1 5]\n",
      "  [2 6]]\n",
      "\n",
      " [[3 7]\n",
      "  [4 8]]]\n"
     ]
    }
   ],
   "source": [
    "#join array \n",
    "\n",
    "a1 = np.array([[1,2],[3,4]])\n",
    "a2 = np.array([[5,6],[7,8]])\n",
    "\n",
    "a3 = np.concatenate((a1, a2))\n",
    "print(a3)\n",
    "\n",
    "a4 = np.stack((a1,a2),axis=1) #bydefault it will take 0 as axis \n",
    "print(a4)\n",
    "\n",
    "a5 = np.hstack((a1,a2)) #stack along rows\n",
    "print(a5)\n",
    "\n",
    "a6 = np.vstack((a1,a2)) #stack over coloumn \n",
    "print(a6)\n",
    "\n",
    "a7 = np.dstack((a1,a2)) #stack over depth\n",
    "print(a7)"
   ]
  },
  {
   "cell_type": "code",
   "execution_count": null,
   "id": "27c8337b",
   "metadata": {},
   "outputs": [],
   "source": []
  }
 ],
 "metadata": {
  "kernelspec": {
   "display_name": "Python 3",
   "language": "python",
   "name": "python3"
  },
  "language_info": {
   "codemirror_mode": {
    "name": "ipython",
    "version": 3
   },
   "file_extension": ".py",
   "mimetype": "text/x-python",
   "name": "python",
   "nbconvert_exporter": "python",
   "pygments_lexer": "ipython3",
   "version": "3.13.3"
  }
 },
 "nbformat": 4,
 "nbformat_minor": 5
}
