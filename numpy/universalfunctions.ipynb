{
 "cells": [
  {
   "cell_type": "code",
   "execution_count": 1,
   "id": "f1764dc9",
   "metadata": {},
   "outputs": [],
   "source": [
    "import numpy as np"
   ]
  },
  {
   "cell_type": "code",
   "execution_count": 15,
   "id": "d77683a3",
   "metadata": {},
   "outputs": [
    {
     "name": "stdout",
     "output_type": "stream",
     "text": [
      "addition: [5 7 9]\n",
      "substraction: [-3 -3 -3]\n",
      "multiply: [ 4 10 18]\n",
      "divide: [0.25 0.4  0.5 ]\n",
      "power: [  1  32 729]\n",
      "mod: [1 2 3]\n",
      "reminder: [1 2 3]\n",
      "(array([0, 0, 0]), array([1, 2, 3]))\n",
      "[1 2 3]\n"
     ]
    }
   ],
   "source": [
    "x= np.array([1,2,3])\n",
    "y = np.array([4,5,6])\n",
    "\n",
    "z=np.add(x,y) #universal function for adding elements \n",
    "print(\"addition:\",z)\n",
    "\n",
    "a = np.subtract(x,y)\n",
    "print(\"substraction:\",a)\n",
    "\n",
    "b = np.multiply(x,y)\n",
    "print(\"multiply:\",b)\n",
    "\n",
    "c = np.divide(x,y)\n",
    "print(\"divide:\",c)\n",
    "\n",
    "d = np.power(x,y)\n",
    "print(\"power:\",d)\n",
    "\n",
    "e = np.mod(x,y)\n",
    "print(\"mod:\",e)\n",
    "f = np.remainder(x,y)\n",
    "print(\"reminder:\",f)\n",
    "\n",
    "g = np.divmod(x,y)\n",
    "print(g)\n",
    "\n",
    "h =np.absolute(x,y)\n",
    "print(h)"
   ]
  },
  {
   "cell_type": "code",
   "execution_count": null,
   "id": "be0b5eb9",
   "metadata": {},
   "outputs": [
    {
     "name": "stdout",
     "output_type": "stream",
     "text": [
      "[5 7 9]\n"
     ]
    }
   ],
   "source": [
    "#create your own ufunc using frompyfunc() method \n",
    "x = [1,2,3]\n",
    "y = [4,5,6]\n",
    "\n",
    "def fun1(x,y):\n",
    "    return x+y\n",
    "\n",
    "fun1 = np.frompyfunc(fun1, 2,1)\n",
    "print(fun1(x,y))"
   ]
  },
  {
   "cell_type": "code",
   "execution_count": null,
   "id": "96dd9724",
   "metadata": {},
   "outputs": [
    {
     "name": "stdout",
     "output_type": "stream",
     "text": [
      "<class 'numpy.ufunc'>\n"
     ]
    }
   ],
   "source": [
    "#check if func is ufnc or not\n",
    "\n",
    "print(type(np.add))\n",
    "# print(type(np.fun1))  IT WILL GIVE ERROR BECUSE IT IS NOT UFUNC"
   ]
  },
  {
   "cell_type": "code",
   "execution_count": null,
   "id": "219e1559",
   "metadata": {},
   "outputs": [
    {
     "name": "stdout",
     "output_type": "stream",
     "text": [
      "[ -1. -48.]\n",
      "[ -1. -48.]\n",
      "-1.34\n",
      "[ -2. -49.]\n",
      "[ -1. -48.]\n"
     ]
    }
   ],
   "source": [
    "#rounding decimals\n",
    "#1.truncation  : only keep int valus remove numbers after .\n",
    "a = np.trunc([-1.344, -48.87709])\n",
    "print(a)\n",
    "\n",
    "#2. fix : only keep int number\n",
    "b = np.fix([-1.344, -48.87709])\n",
    "print(b)\n",
    "\n",
    "#3. rounding : roundoff value upto given digits\n",
    "c = np.round(-1.36666666, 2)\n",
    "print(c)\n",
    "\n",
    "#4. floor : round off value to nearest lower digit\n",
    "d = np.floor([-1.344, -48.87709])\n",
    "print(d)\n",
    "\n",
    "#5.ceil : roundoff value to nearest higher value\n",
    "e = np.ceil([-1.344, -48.87709])\n",
    "print(e)"
   ]
  },
  {
   "cell_type": "code",
   "execution_count": 22,
   "id": "6753ef82",
   "metadata": {},
   "outputs": [
    {
     "name": "stdout",
     "output_type": "stream",
     "text": [
      "[1 2 3 4 5]\n",
      "[0.         1.         1.5849625  2.         2.32192809]\n",
      "[0.         0.30103    0.47712125 0.60205999 0.69897   ]\n",
      "[0.         0.69314718 1.09861229 1.38629436 1.60943791]\n",
      "1.7005483074552052\n"
     ]
    }
   ],
   "source": [
    "#logs \n",
    " \n",
    "a = np.array([1,2,3,4,5])\n",
    "print(a)\n",
    "print(np.log2(a)) #log at base2\n",
    "print(np.log10(a)) # log at base10\n",
    "print(np.log(a)) #matural log base e\n",
    "\n",
    "#log at any base\n",
    "from math import log\n",
    "nplog = np.frompyfunc(log,2,1)\n",
    "print(nplog(100,15))"
   ]
  },
  {
   "cell_type": "code",
   "execution_count": null,
   "id": "20e97307",
   "metadata": {},
   "outputs": [
    {
     "name": "stdout",
     "output_type": "stream",
     "text": [
      "[5 7 9]\n",
      "21\n",
      "[ 6 15]\n",
      "[1 3 6]\n"
     ]
    }
   ],
   "source": [
    "#summations\n",
    "x = np.array([1,2,3])\n",
    "y = np.array([4,5,6])\n",
    "\n",
    "a = np.add(x,y)\n",
    "print(a)\n",
    "\n",
    "b = np.sum([x,y])\n",
    "print(b)\n",
    "\n",
    "c = np.sum([x,y], axis=1)\n",
    "print(c)\n",
    "\n",
    "d = np.cumsum(x)\n",
    "print(d)"
   ]
  },
  {
   "cell_type": "code",
   "execution_count": null,
   "id": "0f3846f2",
   "metadata": {},
   "outputs": [
    {
     "name": "stdout",
     "output_type": "stream",
     "text": [
      "6\n",
      "720\n",
      "[  6 120]\n",
      "[  4  20 120]\n"
     ]
    }
   ],
   "source": [
    "#products\n",
    "e = np.prod(x)\n",
    "print(e)\n",
    "\n",
    "f = np.prod([x,y])\n",
    "print(f)\n",
    "\n",
    "g = np.prod([x,y], axis=1)\n",
    "print(g)\n",
    "\n",
    "h = np.cumprod(y)\n",
    "print(h)"
   ]
  },
  {
   "cell_type": "code",
   "execution_count": 38,
   "id": "f6664d1b",
   "metadata": {},
   "outputs": [
    {
     "name": "stdout",
     "output_type": "stream",
     "text": [
      "[1 1]\n",
      "[ 21 -13]\n"
     ]
    }
   ],
   "source": [
    "#difference\n",
    "i = np.diff(x)\n",
    "print(i)\n",
    "\n",
    "j = np.diff([30, 16, 23, 17], n=2)\n",
    "print(j)"
   ]
  },
  {
   "cell_type": "code",
   "execution_count": 45,
   "id": "80129a5d",
   "metadata": {},
   "outputs": [
    {
     "name": "stdout",
     "output_type": "stream",
     "text": [
      "12\n",
      "18\n"
     ]
    }
   ],
   "source": [
    "#lcm :lowest commmon multiple\n",
    "n1 = 4\n",
    "n2 = 6\n",
    "\n",
    "a = np.lcm(n1,n2)\n",
    "print(a)\n",
    "\n",
    "c= np.array([3, 6, 9])\n",
    "b = np.lcm.reduce(c)\n",
    "print(b)"
   ]
  },
  {
   "cell_type": "code",
   "execution_count": 46,
   "id": "b2076336",
   "metadata": {},
   "outputs": [
    {
     "name": "stdout",
     "output_type": "stream",
     "text": [
      "2\n",
      "3\n"
     ]
    }
   ],
   "source": [
    "#gcd :gratest common divisor\n",
    "\n",
    "d = np.gcd(n1, n2)\n",
    "print(d)\n",
    "\n",
    "e = np.gcd.reduce(c)\n",
    "print(e)"
   ]
  },
  {
   "cell_type": "code",
   "execution_count": null,
   "id": "be7dc147",
   "metadata": {},
   "outputs": [
    {
     "name": "stdout",
     "output_type": "stream",
     "text": [
      "1.0\n",
      "[ 0.13838047 -0.25960268  0.35468521]\n",
      "[1.57079633 3.14159265 4.71238898]\n",
      "[90. 60. 45. 36.]\n",
      "1.5707963267948966\n",
      "[ 1.57079633 -1.57079633  0.        ]\n",
      "5.0\n"
     ]
    }
   ],
   "source": [
    "#numpy trigonometric function \n",
    "\n",
    "a = np.sin(np.pi/2)\n",
    "print(a)\n",
    "\n",
    "b = np.array([np.pi/2, np.pi/3, np.pi/4, np.pi/5])\n",
    "\n",
    "c = np.sin(c)\n",
    "print(c)\n",
    "\n",
    "#convert degree into radient \n",
    "d = np.array([90,180,270])\n",
    "e = np.deg2rad(d)\n",
    "print(e)\n",
    "\n",
    "#radient to degree \n",
    "f = np.rad2deg(b)\n",
    "print(f)\n",
    "\n",
    "#finding angle\n",
    "g = np.arcsin(1.0)\n",
    "print(g)\n",
    "\n",
    "h = np.arcsin([1,-1,0])\n",
    "print(h)\n",
    "\n",
    "#hypotenues :pythagorus theorm of triangle\n",
    "i = 3\n",
    "j = 4\n",
    "\n",
    "k = np.hypot(i,j)\n",
    "print(k)"
   ]
  },
  {
   "cell_type": "code",
   "execution_count": null,
   "id": "25099e47",
   "metadata": {},
   "outputs": [
    {
     "name": "stdout",
     "output_type": "stream",
     "text": [
      "2.3012989023072947\n",
      "2.5091784786580567\n",
      "0.881373587019543\n",
      "[0.10033535 0.54930614]\n"
     ]
    }
   ],
   "source": [
    "#hyperbolic function\n",
    "l = np.sinh(np.pi/2)\n",
    "print(l)\n",
    "\n",
    "m = np.cosh(np.pi/2)\n",
    "print(m)\n",
    " \n",
    "#finding angles\n",
    "n = np.arcsinh(1.0)\n",
    "print(n)\n",
    "\n",
    "p = np.array([0.1, 0.5])\n",
    "o = np.arctanh(p)\n",
    "print(o)"
   ]
  },
  {
   "cell_type": "code",
   "execution_count": null,
   "id": "9a38f692",
   "metadata": {},
   "outputs": [
    {
     "name": "stdout",
     "output_type": "stream",
     "text": [
      "[1 2 3 5 7]\n",
      "[1 2 3 4 5 7]\n",
      "[3 5]\n",
      "[1 2]\n",
      "[1 2 4 7]\n"
     ]
    }
   ],
   "source": [
    "# sets in numpy \n",
    "a = np.array([1,2,5,7,3,2,7,1,2,5,2,7])\n",
    "\n",
    "b = np.unique(a)\n",
    "print(b)\n",
    "\n",
    "#finding union \n",
    "c = np.array([1,3,5,2])\n",
    "d = np.array([3,5,7,4])\n",
    "\n",
    "e = np.union1d(c, d)\n",
    "print(e)\n",
    "\n",
    "#finding intersection \n",
    "f = np.intersect1d(c,d)\n",
    "print(f)\n",
    "\n",
    "#difference \n",
    "g = np.setdiff1d(c,d)\n",
    "print(g)\n",
    "\n",
    "#symmetric difference\n",
    "h = np.setxor1d(c, d)\n",
    "print(h) \n"
   ]
  },
  {
   "cell_type": "code",
   "execution_count": null,
   "id": "2836219d",
   "metadata": {},
   "outputs": [],
   "source": []
  }
 ],
 "metadata": {
  "kernelspec": {
   "display_name": "Python 3",
   "language": "python",
   "name": "python3"
  },
  "language_info": {
   "codemirror_mode": {
    "name": "ipython",
    "version": 3
   },
   "file_extension": ".py",
   "mimetype": "text/x-python",
   "name": "python",
   "nbconvert_exporter": "python",
   "pygments_lexer": "ipython3",
   "version": "3.13.3"
  }
 },
 "nbformat": 4,
 "nbformat_minor": 5
}
