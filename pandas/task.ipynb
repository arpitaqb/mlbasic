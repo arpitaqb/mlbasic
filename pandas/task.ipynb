{
 "cells": [
  {
   "cell_type": "markdown",
   "id": "511df4b0",
   "metadata": {},
   "source": [
    "### Task 2: Numpy\n",
    "\n",
    "1. Make 1D array of numpy with numbers 10 to 20 (inclusive)\n",
    "2. Make the above array to new array of size (5,2)\n",
    "3. Make new array of shape (5,5) with all elements randomly intialized\n",
    "4. Make a new array of all 1's of size 10"
   ]
  },
  {
   "cell_type": "code",
   "execution_count": 21,
   "id": "fb3c0055",
   "metadata": {},
   "outputs": [],
   "source": [
    "import numpy as np\n",
    "from numpy import random"
   ]
  },
  {
   "cell_type": "code",
   "execution_count": 22,
   "id": "ab7057a6",
   "metadata": {},
   "outputs": [
    {
     "data": {
      "text/plain": [
       "array([10, 11, 12, 13, 14, 15, 16, 17, 18, 19])"
      ]
     },
     "execution_count": 22,
     "metadata": {},
     "output_type": "execute_result"
    }
   ],
   "source": [
    "arr = np.arange(10,20)\n",
    "arr"
   ]
  },
  {
   "cell_type": "code",
   "execution_count": 23,
   "id": "8fad39b4",
   "metadata": {},
   "outputs": [
    {
     "data": {
      "text/plain": [
       "(10,)"
      ]
     },
     "execution_count": 23,
     "metadata": {},
     "output_type": "execute_result"
    }
   ],
   "source": [
    "arr.shape"
   ]
  },
  {
   "cell_type": "code",
   "execution_count": 24,
   "id": "055a4f9f",
   "metadata": {},
   "outputs": [
    {
     "data": {
      "text/plain": [
       "array([[10, 11],\n",
       "       [12, 13],\n",
       "       [14, 15],\n",
       "       [16, 17],\n",
       "       [18, 19]])"
      ]
     },
     "execution_count": 24,
     "metadata": {},
     "output_type": "execute_result"
    }
   ],
   "source": [
    "arr.resize((5,2))\n",
    "arr"
   ]
  },
  {
   "cell_type": "code",
   "execution_count": 25,
   "id": "8d0d25d8",
   "metadata": {},
   "outputs": [
    {
     "data": {
      "text/plain": [
       "array([[0.59699989, 0.52545928, 0.52116503, 0.97908648, 0.97733615],\n",
       "       [0.13970871, 0.32000482, 0.92622168, 0.55177451, 0.89616042],\n",
       "       [0.4623205 , 0.93643556, 0.81914149, 0.97512082, 0.06541888],\n",
       "       [0.68768797, 0.39180157, 0.35052361, 0.73774875, 0.36972207],\n",
       "       [0.04656165, 0.57714393, 0.82905052, 0.36458607, 0.30215017]])"
      ]
     },
     "execution_count": 25,
     "metadata": {},
     "output_type": "execute_result"
    }
   ],
   "source": [
    "arr = random.random(size=(5,5))\n",
    "arr"
   ]
  },
  {
   "cell_type": "code",
   "execution_count": 26,
   "id": "cf69c3a0",
   "metadata": {},
   "outputs": [
    {
     "data": {
      "text/plain": [
       "array([1, 1, 1, 1, 1, 1, 1, 1, 1, 1])"
      ]
     },
     "execution_count": 26,
     "metadata": {},
     "output_type": "execute_result"
    }
   ],
   "source": [
    "arr = random.choice([1], size=(10))\n",
    "arr"
   ]
  },
  {
   "cell_type": "markdown",
   "id": "c640c01c",
   "metadata": {},
   "source": [
    "### Task 1: Pandas\n",
    "1. Import the dataframe\n",
    "2. Find data types of the columns using inbuilt function\n",
    "3. List all the unique values in the “Department” column and clean the mistake\n",
    "4. Drop missing data/NA data from the column 'Score'\n",
    "5. Rename columns “Date Joined” → “JoinedDate” and “Score” → “PerformanceScore”\n",
    "6. Drop duplicate rows based on the “ID” column, keeping only the first occurrence\n",
    "7. 'Departments' may have extra spaces or inconsistent casing, strip whitespace and capitalize each department name\n",
    "8. Save the new dataframe to csv"
   ]
  },
  {
   "cell_type": "code",
   "execution_count": 27,
   "id": "1e4a887d",
   "metadata": {},
   "outputs": [],
   "source": [
    "import pandas as pd"
   ]
  },
  {
   "cell_type": "code",
   "execution_count": 28,
   "id": "46672d7b",
   "metadata": {},
   "outputs": [
    {
     "data": {
      "text/html": [
       "<div>\n",
       "<style scoped>\n",
       "    .dataframe tbody tr th:only-of-type {\n",
       "        vertical-align: middle;\n",
       "    }\n",
       "\n",
       "    .dataframe tbody tr th {\n",
       "        vertical-align: top;\n",
       "    }\n",
       "\n",
       "    .dataframe thead th {\n",
       "        text-align: right;\n",
       "    }\n",
       "</style>\n",
       "<table border=\"1\" class=\"dataframe\">\n",
       "  <thead>\n",
       "    <tr style=\"text-align: right;\">\n",
       "      <th></th>\n",
       "      <th>ID</th>\n",
       "      <th>Name</th>\n",
       "      <th>Age</th>\n",
       "      <th>Date Joined</th>\n",
       "      <th>Score</th>\n",
       "      <th>Department</th>\n",
       "    </tr>\n",
       "  </thead>\n",
       "  <tbody>\n",
       "    <tr>\n",
       "      <th>0</th>\n",
       "      <td>1.0</td>\n",
       "      <td>Alice</td>\n",
       "      <td>TRUE</td>\n",
       "      <td>2021-01-15</td>\n",
       "      <td>88.5</td>\n",
       "      <td>Sales</td>\n",
       "    </tr>\n",
       "    <tr>\n",
       "      <th>1</th>\n",
       "      <td>2.0</td>\n",
       "      <td>Bob</td>\n",
       "      <td>FALSE</td>\n",
       "      <td>15/02/2021</td>\n",
       "      <td>92.0</td>\n",
       "      <td>sales</td>\n",
       "    </tr>\n",
       "    <tr>\n",
       "      <th>2</th>\n",
       "      <td>2.0</td>\n",
       "      <td>Charlie</td>\n",
       "      <td>40</td>\n",
       "      <td>2021-03-05</td>\n",
       "      <td>NaN</td>\n",
       "      <td>HR</td>\n",
       "    </tr>\n",
       "    <tr>\n",
       "      <th>3</th>\n",
       "      <td>NaN</td>\n",
       "      <td>Dave</td>\n",
       "      <td>35</td>\n",
       "      <td>April 10, 2021</td>\n",
       "      <td>85.0</td>\n",
       "      <td>HR</td>\n",
       "    </tr>\n",
       "    <tr>\n",
       "      <th>4</th>\n",
       "      <td>5.0</td>\n",
       "      <td>NaN</td>\n",
       "      <td>NaN</td>\n",
       "      <td>2021.05.01</td>\n",
       "      <td>90.0</td>\n",
       "      <td>finance</td>\n",
       "    </tr>\n",
       "    <tr>\n",
       "      <th>5</th>\n",
       "      <td>6.0</td>\n",
       "      <td>Eve</td>\n",
       "      <td>28</td>\n",
       "      <td>2021-06-01</td>\n",
       "      <td>NaN</td>\n",
       "      <td>Finance</td>\n",
       "    </tr>\n",
       "  </tbody>\n",
       "</table>\n",
       "</div>"
      ],
      "text/plain": [
       "    ID     Name    Age     Date Joined  Score Department\n",
       "0  1.0    Alice   TRUE      2021-01-15   88.5      Sales\n",
       "1  2.0     Bob   FALSE      15/02/2021   92.0      sales\n",
       "2  2.0  Charlie     40      2021-03-05    NaN         HR\n",
       "3  NaN     Dave     35  April 10, 2021   85.0        HR \n",
       "4  5.0      NaN    NaN      2021.05.01   90.0    finance\n",
       "5  6.0      Eve     28      2021-06-01    NaN    Finance"
      ]
     },
     "execution_count": 28,
     "metadata": {},
     "output_type": "execute_result"
    }
   ],
   "source": [
    "df = pd.read_csv(\"messy_data.csv\")\n",
    "df"
   ]
  },
  {
   "cell_type": "code",
   "execution_count": 29,
   "id": "b94fca6e",
   "metadata": {},
   "outputs": [
    {
     "name": "stdout",
     "output_type": "stream",
     "text": [
      "<bound method NDFrame.astype of 0    1.0\n",
      "1    2.0\n",
      "2    2.0\n",
      "3    NaN\n",
      "4    5.0\n",
      "5    6.0\n",
      "Name: ID, dtype: float64>\n",
      "<bound method NDFrame.astype of 0      Alice\n",
      "1       Bob \n",
      "2    Charlie\n",
      "3       Dave\n",
      "4        NaN\n",
      "5        Eve\n",
      "Name: Name, dtype: object>\n",
      "<bound method NDFrame.astype of 0     TRUE\n",
      "1    FALSE\n",
      "2       40\n",
      "3       35\n",
      "4      NaN\n",
      "5       28\n",
      "Name: Age, dtype: object>\n",
      "<bound method NDFrame.astype of 0        2021-01-15\n",
      "1        15/02/2021\n",
      "2        2021-03-05\n",
      "3    April 10, 2021\n",
      "4        2021.05.01\n",
      "5        2021-06-01\n",
      "Name: Date Joined, dtype: object>\n",
      "<bound method NDFrame.astype of 0    88.5\n",
      "1    92.0\n",
      "2     NaN\n",
      "3    85.0\n",
      "4    90.0\n",
      "5     NaN\n",
      "Name: Score, dtype: float64>\n",
      "<bound method NDFrame.astype of 0      Sales\n",
      "1      sales\n",
      "2         HR\n",
      "3        HR \n",
      "4    finance\n",
      "5    Finance\n",
      "Name: Department, dtype: object>\n"
     ]
    }
   ],
   "source": [
    "print(df[\"ID\"].astype)\n",
    "print(df[\"Name\"].astype)\n",
    "print(df[\"Age\"].astype)\n",
    "print(df[\"Date Joined\"].astype)\n",
    "print(df[\"Score\"].astype)\n",
    "print(df[\"Department\"].astype)"
   ]
  },
  {
   "cell_type": "code",
   "execution_count": 30,
   "id": "f1824ec0",
   "metadata": {},
   "outputs": [
    {
     "data": {
      "text/plain": [
       "array(['Sales', 'sales', 'HR', 'HR ', 'finance', 'Finance'], dtype=object)"
      ]
     },
     "execution_count": 30,
     "metadata": {},
     "output_type": "execute_result"
    }
   ],
   "source": [
    "df[\"Department\"].unique()"
   ]
  },
  {
   "cell_type": "code",
   "execution_count": 31,
   "id": "d3c73a5b",
   "metadata": {},
   "outputs": [
    {
     "data": {
      "text/plain": [
       "array(['Sales', 'Hr', 'Finance'], dtype=object)"
      ]
     },
     "execution_count": 31,
     "metadata": {},
     "output_type": "execute_result"
    }
   ],
   "source": [
    "df[\"Department\"] = df[\"Department\"].str.strip().str.capitalize()\n",
    "df[\"Department\"].unique()"
   ]
  },
  {
   "cell_type": "code",
   "execution_count": 32,
   "id": "b5e40004",
   "metadata": {},
   "outputs": [
    {
     "data": {
      "text/html": [
       "<div>\n",
       "<style scoped>\n",
       "    .dataframe tbody tr th:only-of-type {\n",
       "        vertical-align: middle;\n",
       "    }\n",
       "\n",
       "    .dataframe tbody tr th {\n",
       "        vertical-align: top;\n",
       "    }\n",
       "\n",
       "    .dataframe thead th {\n",
       "        text-align: right;\n",
       "    }\n",
       "</style>\n",
       "<table border=\"1\" class=\"dataframe\">\n",
       "  <thead>\n",
       "    <tr style=\"text-align: right;\">\n",
       "      <th></th>\n",
       "      <th>ID</th>\n",
       "      <th>Name</th>\n",
       "      <th>Age</th>\n",
       "      <th>Date Joined</th>\n",
       "      <th>Score</th>\n",
       "      <th>Department</th>\n",
       "    </tr>\n",
       "  </thead>\n",
       "  <tbody>\n",
       "    <tr>\n",
       "      <th>0</th>\n",
       "      <td>1.0</td>\n",
       "      <td>Alice</td>\n",
       "      <td>TRUE</td>\n",
       "      <td>2021-01-15</td>\n",
       "      <td>88.5</td>\n",
       "      <td>Sales</td>\n",
       "    </tr>\n",
       "    <tr>\n",
       "      <th>1</th>\n",
       "      <td>2.0</td>\n",
       "      <td>Bob</td>\n",
       "      <td>FALSE</td>\n",
       "      <td>15/02/2021</td>\n",
       "      <td>92.0</td>\n",
       "      <td>Sales</td>\n",
       "    </tr>\n",
       "    <tr>\n",
       "      <th>3</th>\n",
       "      <td>NaN</td>\n",
       "      <td>Dave</td>\n",
       "      <td>35</td>\n",
       "      <td>April 10, 2021</td>\n",
       "      <td>85.0</td>\n",
       "      <td>Hr</td>\n",
       "    </tr>\n",
       "    <tr>\n",
       "      <th>4</th>\n",
       "      <td>5.0</td>\n",
       "      <td>NaN</td>\n",
       "      <td>NaN</td>\n",
       "      <td>2021.05.01</td>\n",
       "      <td>90.0</td>\n",
       "      <td>Finance</td>\n",
       "    </tr>\n",
       "  </tbody>\n",
       "</table>\n",
       "</div>"
      ],
      "text/plain": [
       "    ID    Name    Age     Date Joined  Score Department\n",
       "0  1.0   Alice   TRUE      2021-01-15   88.5      Sales\n",
       "1  2.0    Bob   FALSE      15/02/2021   92.0      Sales\n",
       "3  NaN    Dave     35  April 10, 2021   85.0         Hr\n",
       "4  5.0     NaN    NaN      2021.05.01   90.0    Finance"
      ]
     },
     "execution_count": 32,
     "metadata": {},
     "output_type": "execute_result"
    }
   ],
   "source": [
    "df.dropna(subset=['Score'], inplace=True)\n",
    "df"
   ]
  },
  {
   "cell_type": "code",
   "execution_count": 33,
   "id": "556b9d51",
   "metadata": {},
   "outputs": [
    {
     "data": {
      "text/html": [
       "<div>\n",
       "<style scoped>\n",
       "    .dataframe tbody tr th:only-of-type {\n",
       "        vertical-align: middle;\n",
       "    }\n",
       "\n",
       "    .dataframe tbody tr th {\n",
       "        vertical-align: top;\n",
       "    }\n",
       "\n",
       "    .dataframe thead th {\n",
       "        text-align: right;\n",
       "    }\n",
       "</style>\n",
       "<table border=\"1\" class=\"dataframe\">\n",
       "  <thead>\n",
       "    <tr style=\"text-align: right;\">\n",
       "      <th></th>\n",
       "      <th>ID</th>\n",
       "      <th>Name</th>\n",
       "      <th>Age</th>\n",
       "      <th>JoinedDate</th>\n",
       "      <th>PerformanceScore</th>\n",
       "      <th>Department</th>\n",
       "    </tr>\n",
       "  </thead>\n",
       "  <tbody>\n",
       "    <tr>\n",
       "      <th>0</th>\n",
       "      <td>1.0</td>\n",
       "      <td>Alice</td>\n",
       "      <td>TRUE</td>\n",
       "      <td>2021-01-15</td>\n",
       "      <td>88.5</td>\n",
       "      <td>Sales</td>\n",
       "    </tr>\n",
       "    <tr>\n",
       "      <th>1</th>\n",
       "      <td>2.0</td>\n",
       "      <td>Bob</td>\n",
       "      <td>FALSE</td>\n",
       "      <td>15/02/2021</td>\n",
       "      <td>92.0</td>\n",
       "      <td>Sales</td>\n",
       "    </tr>\n",
       "    <tr>\n",
       "      <th>3</th>\n",
       "      <td>NaN</td>\n",
       "      <td>Dave</td>\n",
       "      <td>35</td>\n",
       "      <td>April 10, 2021</td>\n",
       "      <td>85.0</td>\n",
       "      <td>Hr</td>\n",
       "    </tr>\n",
       "    <tr>\n",
       "      <th>4</th>\n",
       "      <td>5.0</td>\n",
       "      <td>NaN</td>\n",
       "      <td>NaN</td>\n",
       "      <td>2021.05.01</td>\n",
       "      <td>90.0</td>\n",
       "      <td>Finance</td>\n",
       "    </tr>\n",
       "  </tbody>\n",
       "</table>\n",
       "</div>"
      ],
      "text/plain": [
       "    ID    Name    Age      JoinedDate  PerformanceScore Department\n",
       "0  1.0   Alice   TRUE      2021-01-15              88.5      Sales\n",
       "1  2.0    Bob   FALSE      15/02/2021              92.0      Sales\n",
       "3  NaN    Dave     35  April 10, 2021              85.0         Hr\n",
       "4  5.0     NaN    NaN      2021.05.01              90.0    Finance"
      ]
     },
     "execution_count": 33,
     "metadata": {},
     "output_type": "execute_result"
    }
   ],
   "source": [
    "df.rename(columns={\"Date Joined\": \"JoinedDate\", \"Score\": \"PerformanceScore\"}, inplace=True)\n",
    "df"
   ]
  },
  {
   "cell_type": "code",
   "execution_count": 34,
   "id": "d57f591a",
   "metadata": {},
   "outputs": [
    {
     "data": {
      "text/html": [
       "<div>\n",
       "<style scoped>\n",
       "    .dataframe tbody tr th:only-of-type {\n",
       "        vertical-align: middle;\n",
       "    }\n",
       "\n",
       "    .dataframe tbody tr th {\n",
       "        vertical-align: top;\n",
       "    }\n",
       "\n",
       "    .dataframe thead th {\n",
       "        text-align: right;\n",
       "    }\n",
       "</style>\n",
       "<table border=\"1\" class=\"dataframe\">\n",
       "  <thead>\n",
       "    <tr style=\"text-align: right;\">\n",
       "      <th></th>\n",
       "      <th>ID</th>\n",
       "      <th>Name</th>\n",
       "      <th>Age</th>\n",
       "      <th>JoinedDate</th>\n",
       "      <th>PerformanceScore</th>\n",
       "      <th>Department</th>\n",
       "    </tr>\n",
       "  </thead>\n",
       "  <tbody>\n",
       "    <tr>\n",
       "      <th>0</th>\n",
       "      <td>1.0</td>\n",
       "      <td>Alice</td>\n",
       "      <td>TRUE</td>\n",
       "      <td>2021-01-15</td>\n",
       "      <td>88.5</td>\n",
       "      <td>Sales</td>\n",
       "    </tr>\n",
       "    <tr>\n",
       "      <th>1</th>\n",
       "      <td>2.0</td>\n",
       "      <td>Bob</td>\n",
       "      <td>FALSE</td>\n",
       "      <td>15/02/2021</td>\n",
       "      <td>92.0</td>\n",
       "      <td>Sales</td>\n",
       "    </tr>\n",
       "    <tr>\n",
       "      <th>3</th>\n",
       "      <td>NaN</td>\n",
       "      <td>Dave</td>\n",
       "      <td>35</td>\n",
       "      <td>April 10, 2021</td>\n",
       "      <td>85.0</td>\n",
       "      <td>Hr</td>\n",
       "    </tr>\n",
       "    <tr>\n",
       "      <th>4</th>\n",
       "      <td>5.0</td>\n",
       "      <td>NaN</td>\n",
       "      <td>NaN</td>\n",
       "      <td>2021.05.01</td>\n",
       "      <td>90.0</td>\n",
       "      <td>Finance</td>\n",
       "    </tr>\n",
       "  </tbody>\n",
       "</table>\n",
       "</div>"
      ],
      "text/plain": [
       "    ID    Name    Age      JoinedDate  PerformanceScore Department\n",
       "0  1.0   Alice   TRUE      2021-01-15              88.5      Sales\n",
       "1  2.0    Bob   FALSE      15/02/2021              92.0      Sales\n",
       "3  NaN    Dave     35  April 10, 2021              85.0         Hr\n",
       "4  5.0     NaN    NaN      2021.05.01              90.0    Finance"
      ]
     },
     "execution_count": 34,
     "metadata": {},
     "output_type": "execute_result"
    }
   ],
   "source": [
    "#6. Drop duplicate rows based on the “ID” column, keeping only the first occurrence\n",
    "df.drop_duplicates(subset=['ID'], keep='first', inplace=True)\n",
    "df"
   ]
  },
  {
   "cell_type": "code",
   "execution_count": 35,
   "id": "0d191cfa",
   "metadata": {},
   "outputs": [
    {
     "data": {
      "text/html": [
       "<div>\n",
       "<style scoped>\n",
       "    .dataframe tbody tr th:only-of-type {\n",
       "        vertical-align: middle;\n",
       "    }\n",
       "\n",
       "    .dataframe tbody tr th {\n",
       "        vertical-align: top;\n",
       "    }\n",
       "\n",
       "    .dataframe thead th {\n",
       "        text-align: right;\n",
       "    }\n",
       "</style>\n",
       "<table border=\"1\" class=\"dataframe\">\n",
       "  <thead>\n",
       "    <tr style=\"text-align: right;\">\n",
       "      <th></th>\n",
       "      <th>ID</th>\n",
       "      <th>Name</th>\n",
       "      <th>Age</th>\n",
       "      <th>JoinedDate</th>\n",
       "      <th>PerformanceScore</th>\n",
       "      <th>Department</th>\n",
       "    </tr>\n",
       "  </thead>\n",
       "  <tbody>\n",
       "    <tr>\n",
       "      <th>0</th>\n",
       "      <td>1.0</td>\n",
       "      <td>Alice</td>\n",
       "      <td>TRUE</td>\n",
       "      <td>2021-01-15</td>\n",
       "      <td>88.5</td>\n",
       "      <td>Sales</td>\n",
       "    </tr>\n",
       "    <tr>\n",
       "      <th>1</th>\n",
       "      <td>2.0</td>\n",
       "      <td>Bob</td>\n",
       "      <td>FALSE</td>\n",
       "      <td>15/02/2021</td>\n",
       "      <td>92.0</td>\n",
       "      <td>Sales</td>\n",
       "    </tr>\n",
       "    <tr>\n",
       "      <th>3</th>\n",
       "      <td>NaN</td>\n",
       "      <td>Dave</td>\n",
       "      <td>35</td>\n",
       "      <td>April 10, 2021</td>\n",
       "      <td>85.0</td>\n",
       "      <td>Hr</td>\n",
       "    </tr>\n",
       "    <tr>\n",
       "      <th>4</th>\n",
       "      <td>5.0</td>\n",
       "      <td>NaN</td>\n",
       "      <td>NaN</td>\n",
       "      <td>2021.05.01</td>\n",
       "      <td>90.0</td>\n",
       "      <td>Finance</td>\n",
       "    </tr>\n",
       "  </tbody>\n",
       "</table>\n",
       "</div>"
      ],
      "text/plain": [
       "    ID    Name    Age      JoinedDate  PerformanceScore Department\n",
       "0  1.0   Alice   TRUE      2021-01-15              88.5      Sales\n",
       "1  2.0    Bob   FALSE      15/02/2021              92.0      Sales\n",
       "3  NaN    Dave     35  April 10, 2021              85.0         Hr\n",
       "4  5.0     NaN    NaN      2021.05.01              90.0    Finance"
      ]
     },
     "execution_count": 35,
     "metadata": {},
     "output_type": "execute_result"
    }
   ],
   "source": [
    "df.drop_duplicates(\"ID\")"
   ]
  },
  {
   "cell_type": "code",
   "execution_count": 36,
   "id": "23609a68",
   "metadata": {},
   "outputs": [
    {
     "data": {
      "text/html": [
       "<div>\n",
       "<style scoped>\n",
       "    .dataframe tbody tr th:only-of-type {\n",
       "        vertical-align: middle;\n",
       "    }\n",
       "\n",
       "    .dataframe tbody tr th {\n",
       "        vertical-align: top;\n",
       "    }\n",
       "\n",
       "    .dataframe thead th {\n",
       "        text-align: right;\n",
       "    }\n",
       "</style>\n",
       "<table border=\"1\" class=\"dataframe\">\n",
       "  <thead>\n",
       "    <tr style=\"text-align: right;\">\n",
       "      <th></th>\n",
       "      <th>ID</th>\n",
       "      <th>Name</th>\n",
       "      <th>Age</th>\n",
       "      <th>JoinedDate</th>\n",
       "      <th>PerformanceScore</th>\n",
       "      <th>Department</th>\n",
       "    </tr>\n",
       "  </thead>\n",
       "  <tbody>\n",
       "    <tr>\n",
       "      <th>0</th>\n",
       "      <td>1.0</td>\n",
       "      <td>Alice</td>\n",
       "      <td>TRUE</td>\n",
       "      <td>2021-01-15</td>\n",
       "      <td>88.5</td>\n",
       "      <td>Sales</td>\n",
       "    </tr>\n",
       "    <tr>\n",
       "      <th>1</th>\n",
       "      <td>2.0</td>\n",
       "      <td>Bob</td>\n",
       "      <td>FALSE</td>\n",
       "      <td>15/02/2021</td>\n",
       "      <td>92.0</td>\n",
       "      <td>Sales</td>\n",
       "    </tr>\n",
       "    <tr>\n",
       "      <th>3</th>\n",
       "      <td>NaN</td>\n",
       "      <td>Dave</td>\n",
       "      <td>35</td>\n",
       "      <td>April 10, 2021</td>\n",
       "      <td>85.0</td>\n",
       "      <td>Hr</td>\n",
       "    </tr>\n",
       "    <tr>\n",
       "      <th>4</th>\n",
       "      <td>5.0</td>\n",
       "      <td>NaN</td>\n",
       "      <td>NaN</td>\n",
       "      <td>2021.05.01</td>\n",
       "      <td>90.0</td>\n",
       "      <td>Finance</td>\n",
       "    </tr>\n",
       "  </tbody>\n",
       "</table>\n",
       "</div>"
      ],
      "text/plain": [
       "    ID    Name    Age      JoinedDate  PerformanceScore Department\n",
       "0  1.0   Alice   TRUE      2021-01-15              88.5      Sales\n",
       "1  2.0    Bob   FALSE      15/02/2021              92.0      Sales\n",
       "3  NaN    Dave     35  April 10, 2021              85.0         Hr\n",
       "4  5.0     NaN    NaN      2021.05.01              90.0    Finance"
      ]
     },
     "execution_count": 36,
     "metadata": {},
     "output_type": "execute_result"
    }
   ],
   "source": [
    "df = pd.DataFrame(df)\n",
    "df"
   ]
  },
  {
   "cell_type": "code",
   "execution_count": 37,
   "id": "7386dde1",
   "metadata": {},
   "outputs": [
    {
     "data": {
      "text/plain": [
       "array(['SALES', 'HR', 'FINANCE'], dtype=object)"
      ]
     },
     "execution_count": 37,
     "metadata": {},
     "output_type": "execute_result"
    }
   ],
   "source": [
    "def fun1(word):\n",
    "    word = word.strip()\n",
    "    a = word.upper()\n",
    "    return a\n",
    "\n",
    "df[\"Department\"] = df[\"Department\"].apply(fun1)\n",
    "df[\"Department\"].unique()"
   ]
  },
  {
   "cell_type": "code",
   "execution_count": null,
   "id": "7706d757",
   "metadata": {},
   "outputs": [],
   "source": [
    "df.to_csv(\"new_data.csv\") # saved "
   ]
  }
 ],
 "metadata": {
  "kernelspec": {
   "display_name": "Python 3",
   "language": "python",
   "name": "python3"
  },
  "language_info": {
   "codemirror_mode": {
    "name": "ipython",
    "version": 3
   },
   "file_extension": ".py",
   "mimetype": "text/x-python",
   "name": "python",
   "nbconvert_exporter": "python",
   "pygments_lexer": "ipython3",
   "version": "3.13.3"
  }
 },
 "nbformat": 4,
 "nbformat_minor": 5
}
